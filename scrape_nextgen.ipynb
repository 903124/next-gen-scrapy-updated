{
 "cells": [
  {
   "cell_type": "code",
   "execution_count": 1,
   "metadata": {},
   "outputs": [
    {
     "name": "stdout",
     "output_type": "stream",
     "text": [
      "C:\\Users\\douget\\Documents\\Ethan\\DataAnalysis\\arrowhead_analytics\\next-gen-scrapy-master\n"
     ]
    }
   ],
   "source": [
    "%cd C:\\Users\\douget\\Documents\\Ethan\\DataAnalysis\\arrowhead_analytics\\next-gen-scrapy-master"
   ]
  },
  {
   "cell_type": "code",
   "execution_count": 21,
   "metadata": {},
   "outputs": [],
   "source": [
    "import requests \n",
    "from bs4 import BeautifulSoup \n",
    "import re\n",
    "import json\n",
    "import urllib\n",
    "import os\n",
    "import urllib.request\n",
    "import cv2\n",
    "import json\n",
    "import scipy.misc\n",
    "import pandas as pd\n",
    "from undistort_field import *\n",
    "from pass_detection import *"
   ]
  },
  {
   "cell_type": "code",
   "execution_count": 3,
   "metadata": {},
   "outputs": [],
   "source": [
    "\"\"\"\n",
    "Author: Sarah Mallepalle (updated to work in Python 3 by Ethan Douglas)\n",
    "\n",
    "For a single pass chart image in 'Pass_Charts', extract only the trapezoidal image of the field, \n",
    "undistort the field by turning the trapezoid into a rectangle, remove the sideline labels, \n",
    "and save the new image to the folder 'Cleaned_Pass_Charts'.\n",
    "\"\"\"\n",
    "\n",
    "import cv2\n",
    "import os\n",
    "from skimage import data, color, img_as_ubyte, io\n",
    "from skimage import feature\n",
    "from skimage.feature import canny\n",
    "from skimage.transform import hough_ellipse\n",
    "from skimage.draw import ellipse_perimeter\n",
    "import math\n",
    "from PIL import Image\n",
    "from PIL import ImageDraw\n",
    "import numpy as np\n",
    "\n",
    "\n",
    "\n",
    "def get_top(image):\n",
    "\t\"\"\"\n",
    "\tFunction to get the pixel location of the top of the trapezoidal field.\n",
    "\t\n",
    "\tInput:\n",
    "\t\timage: image from the folder 'Pass_Charts'\n",
    "\tReturn:\n",
    "\t\ttop_left: location of the top left of the trapezoidal field\n",
    "\t\"\"\"\n",
    "\tframe = cv2.imread(image, 0)\n",
    "\tret, img = cv2.threshold(frame, 40, 255, cv2.THRESH_BINARY_INV)\n",
    "\n",
    "\tpoints = np.fliplr(np.argwhere(img==0))\n",
    "\n",
    "\tmid = 600\n",
    "\ttop = None\n",
    "\ttop_left = None\n",
    "\ttop_right = None\n",
    "\n",
    "\tfor p in points:\n",
    "\t\tif (p[0] == mid):\n",
    "\t\t\tif (top == None): \n",
    "\t\t\t\ttop = p[1]\n",
    "\t\t\t\tbreak\n",
    "\n",
    "\tfor p in points:\n",
    "\t\tif (p[1] == top):\n",
    "\t\t\tif (top_left == None):\n",
    "\t\t\t\ttop_left = p[0]\n",
    "\t\t\t\tbreak\n",
    "\n",
    "\treturn top_left\n",
    "\n",
    "def make_grey_border(image):\n",
    "\t\"\"\"\n",
    "\tFunction to add a grey border to the left and right of the trapezoidal field, \n",
    "\tin order to undistort the trapezoid.\n",
    "\t\n",
    "\tInput:\n",
    "\t\timage: image from the folder 'Pass_Charts'\n",
    "\tReturn:\n",
    "\t\ttop_left: location of the top left of the trapezoidal field\n",
    "\t\tbordersize: width of the border in pixels added to the image\n",
    "\t\tborder: numpy.ndarray representation of input image with border\n",
    "\t\t\n",
    "\t\"\"\"\n",
    "\ttop_left = get_top(image)\n",
    "\tim = cv2.imread(image)\n",
    "\trow, col = im.shape[:2]\n",
    "\t\n",
    "\tgrey_color = [108,96,86]\n",
    "\n",
    "\tstart = 0\n",
    "\tfor i in range(row):\n",
    "\t\tif (im[i,0,2] > 70): \n",
    "\t\t\tstart = i \n",
    "\t\t\tbreak\n",
    "\n",
    "\tbordersize = int(math.ceil(float(top_left*row)/float(start)) - top_left)\n",
    "\n",
    "\tborder = cv2.copyMakeBorder(im, top=0, bottom=0, \n",
    "\t\tleft=bordersize, right=bordersize, \n",
    "\t\tborderType= cv2.BORDER_CONSTANT, value=grey_color)\n",
    "\n",
    "\treturn top_left, bordersize, border\n",
    "\n",
    "def undistort_field(image):\n",
    "\t\"\"\"\n",
    "\tFunction to undistort the field by turning the trapezoid field image into a rectangle.\n",
    "\t\n",
    "\tInput:\n",
    "\t\timage: image from the folder 'Pass_Charts'\n",
    "\tReturn:\n",
    "\t\tim_out: undistorted image of the field turned into a rectangle\n",
    "\t\"\"\"\n",
    "\n",
    "\ttl, bs, border_image = make_grey_border(image)\n",
    "\n",
    "\timage = cv2.imread(image)\n",
    "\n",
    "\ti_row, i_col = image.shape[:2]\n",
    "\tb_row, b_col = border_image.shape[:2]\n",
    "\n",
    "\tif b_col > 1398: return None\n",
    "\tpts_src = np.array([[0, i_row], [tl+bs, 0], [i_col-tl+bs, 0],[b_col, i_row]])\n",
    "\tpts_dst = np.array([[0, b_row],[0, 0],[b_col, 0],[b_col, b_row]])\n",
    "\n",
    "\th, status = cv2.findHomography(pts_src, pts_dst)\n",
    "\n",
    "\tim_out = cv2.warpPerspective(border_image, h, (b_col, b_row)) \n",
    "\n",
    "\treturn im_out\n",
    "\n",
    "def clean_field_70(image):\n",
    "\t\"\"\"\n",
    "\tFunction that removes the sidelines of an undistorted pass chart field image,\n",
    "\tif the field image shows +70 yards from the line of scrimmage.\n",
    "\t\n",
    "\tInput:\n",
    "\t\timage: undistorted image, im_out\n",
    "\tReturn:\n",
    "\t\timg: cleaned undistorted image, without sidelines\n",
    "\t\"\"\"\n",
    "\timg = Image.open(image)\n",
    "\tgrey_color = (86,96,108)\n",
    "\tLOS1 = ((18,587), (86, 601))\n",
    "\tLOS2 = ((1308, 601), (1374,587))\n",
    "\n",
    "\tx0 = 33\n",
    "\tx1 = 0\n",
    "\tx2 = 1362\n",
    "\tx3 = max(img.size[0], 1394)\n",
    "\n",
    "\tl10 = ((x0, 520), (x1, 503))\n",
    "\tr10 = ((x2, 520), (x3, 505))\n",
    "\n",
    "\tl20 = ((x0, 440), (x1, 421))\n",
    "\tr20 = ((x2, 440), (x3, 423))\n",
    "\n",
    "\tl30 = ((x0, 360), (x1, 338))\n",
    "\tr30 = ((x2, 360), (x3, 340))\n",
    "\n",
    "\tl40 = ((x0, 279), (x1, 255))\n",
    "\tr40 = ((x2, 279), (x3, 257))\n",
    "\n",
    "\tl50 = ((x0, 200), (x1, 173))\n",
    "\tr50 = ((x2, 200), (x3, 175))\n",
    "\n",
    "\tl60 = ((x0, 118), (x1, 90))\n",
    "\tr60 = ((x2, 118), (x3, 92))\n",
    "\n",
    "\tl70 = ((x0, 38), (x1, 8))\n",
    "\tr70 = ((x2, 38), (x3, 10))\n",
    "\n",
    "\tsidelines = [LOS1, LOS2, l10, r10, l20, r20, l30, r30,\n",
    "\t            l40, r40, l50, r50, l60, r60, l70, r70\n",
    "\t]\n",
    "\n",
    "\n",
    "\n",
    "\tdraw = ImageDraw.Draw(img)\n",
    "\n",
    "\tfor number in sidelines: \n",
    "\t\tdraw.rectangle(number, fill=grey_color)\n",
    "\n",
    "\treturn img\n",
    "\n",
    "def clean_field_50(image):\n",
    "\t\"\"\"\n",
    "\tFunction that removes the sidelines of an undistorted pass chart field image,\n",
    "\tif the field image shows +50 yards from the line of scrimmage.\n",
    "\t\n",
    "\tInput:\n",
    "\t\timage: undistorted image, im_out\n",
    "\tReturn:\n",
    "\t\timg: cleaned undistorted image, without sidelines\n",
    "\t\"\"\"\n",
    "\timg = Image.open(image)\n",
    "\tgrey_color = (86,96,108)\n",
    "\tLOS1 = ((20, 562), (84, 578))\n",
    "\tLOS2 = ((1340, 562), (1278, 578))\n",
    "\n",
    "\tx0 = 33\n",
    "\tx1 = 0\n",
    "\tx2 = 1331\n",
    "\tx3 = max(img.size[0], 1362)\n",
    "\n",
    "\tl10 = ((x0, 476), (x1, 455))\n",
    "\tr10 = ((x2, 476), (x3, 457))\n",
    "\n",
    "\tl20 = ((x0, 373), (x1, 349))\n",
    "\tr20 = ((x2, 373), (x3, 351))\n",
    "\n",
    "\tl30 = ((x0, 269), (x1, 243))\n",
    "\tr30 = ((x2, 269), (x3, 245))\n",
    "\n",
    "\tl40 = ((x0, 165), (x1, 137))\n",
    "\tr40 = ((x2, 165), (x3, 139))\n",
    "\n",
    "\tl50 = ((x0, 60), (x1, 30))\n",
    "\tr50 = ((x2, 60), (x3, 32))\n",
    "\n",
    "\tsidelines = [LOS1, LOS2, l10, r10, l20, r20, \n",
    "\t\t\t\tl30, r30, l40, r40, l50, r50\n",
    "\t]\n",
    "\n",
    "\n",
    "\n",
    "\tdraw = ImageDraw.Draw(img)\n",
    "\n",
    "\tfor number in sidelines: \n",
    "\t\tdraw.rectangle(number, fill=grey_color)\n",
    "\n",
    "\treturn img\n",
    "\n",
    "def clean_field(image):\n",
    "\t\"\"\"\n",
    "\tWrapper function for clean_field_50 and clean_field_70. \n",
    "\t\"\"\"\n",
    "\tu_img = undistort_field(image)\n",
    "\tif u_img is None: \n",
    "\t\treturn None\n",
    "\trow, col = u_img.shape[:2]\n",
    "\n",
    "\tcv2.imwrite(image, u_img)\n",
    "\n",
    "\tif col > 1370:\n",
    "\t\treturn clean_field_70(image)\n",
    "\n",
    "\telse:\n",
    "\t\treturn clean_field_50(image)\n",
    "\n",
    "\n",
    "\n"
   ]
  },
  {
   "cell_type": "code",
   "execution_count": 19,
   "metadata": {},
   "outputs": [],
   "source": []
  },
  {
   "cell_type": "code",
   "execution_count": 5,
   "metadata": {},
   "outputs": [
    {
     "name": "stdout",
     "output_type": "stream",
     "text": [
      "Scraping images and html data...\n",
      "arizona-cardinals \t 2019\n",
      "atlanta-falcons \t 2019\n",
      "baltimore-ravens \t 2019\n",
      "buffalo-bills \t 2019\n",
      "carolina-panthers \t 2019\n",
      "chicago-bears \t 2019\n",
      "cincinnati-bengals \t 2019\n",
      "cleveland-browns \t 2019\n",
      "dallas-cowboys \t 2019\n",
      "denver-broncos \t 2019\n",
      "detroit-lions \t 2019\n",
      "green-bay-packers \t 2019\n",
      "houston-texans \t 2019\n",
      "indianapolis-colts \t 2019\n",
      "jacksonville-jaguars \t 2019\n",
      "kansas-city-chiefs \t 2019\n",
      "los-angeles-chargers \t 2019\n",
      "los-angeles-rams \t 2019\n",
      "miami-dolphins \t 2019\n",
      "minnesota-vikings \t 2019\n",
      "new-england-patriots \t 2019\n",
      "new-orleans-saints \t 2019\n",
      "new-york-giants \t 2019\n",
      "new-york-jets \t 2019\n",
      "oakland-raiders \t 2019\n",
      "philadelphia-eagles \t 2019\n",
      "pittsburgh-steelers \t 2019\n",
      "san-francisco-49ers \t 2019\n",
      "seattle-seahawks \t 2019\n",
      "tampabay-buccaneers \t 2019\n",
      "tennessee-titans \t 2019\n",
      "washington-redskins \t 2019\n",
      "Done.\n"
     ]
    }
   ],
   "source": [
    "teams = [\"arizona-cardinals\",\n",
    "\t\"atlanta-falcons\",\n",
    "\t\"baltimore-ravens\",\n",
    "\t\"buffalo-bills\",\n",
    "\t\"carolina-panthers\",\n",
    "\t\"chicago-bears\",\n",
    "\t\"cincinnati-bengals\",\n",
    "\t\"cleveland-browns\",\n",
    "\t\"dallas-cowboys\",\n",
    "\t\"denver-broncos\",\n",
    "\t\"detroit-lions\",\n",
    "\t\"green-bay-packers\",\n",
    "\t\"houston-texans\",\n",
    "\t\"indianapolis-colts\",\n",
    "\t\"jacksonville-jaguars\",\n",
    "\t\"kansas-city-chiefs\",\n",
    "\t\"los-angeles-chargers\",\n",
    "\t\"los-angeles-rams\",\n",
    "\t\"miami-dolphins\",\n",
    "\t\"minnesota-vikings\",\n",
    "\t\"new-england-patriots\",\n",
    "\t\"new-orleans-saints\",\n",
    "\t\"new-york-giants\",\n",
    "\t\"new-york-jets\",\n",
    "\t\"oakland-raiders\",\n",
    "\t\"philadelphia-eagles\",\n",
    "\t\"pittsburgh-steelers\",\n",
    "\t\"san-francisco-49ers\",\n",
    "\t\"seattle-seahawks\",\n",
    "\t\"tampabay-buccaneers\",\n",
    "\t\"tennessee-titans\",\n",
    "\t\"washington-redskins\"\n",
    "]\n",
    "\n",
    "seasons = [\"2019\"]\n",
    "\n",
    "weeks = [\"1\", \"2\", \"3\", \"4\", \"5\", \"6\", \"7\", \"8\", \"9\", \"10\", \"11\", \"12\", \"13\",\n",
    "\"14\", \"15\", \"16\", \"17\", \"wild-card\", \"divisional\", \"conference\", \"super-bowl\"]\n",
    "\n",
    "pattern = re.compile(\"charts\")\n",
    "\n",
    "print(\"Scraping images and html data...\")\n",
    "for team in teams:\n",
    "\tfor season in seasons:\n",
    "\t\tprint(team, \"\\t\", season)\n",
    "\t\tfor week in weeks:\n",
    "\t\t\tURL = \"https://nextgenstats.nfl.com/charts/list/pass/\" + team + \"/\" + season + \"/\" + week\n",
    "\t\t\tr = requests.get(URL)\n",
    "\n",
    "\t\t\tsoup = BeautifulSoup(r.content, \"html.parser\")\n",
    "\n",
    "\t\t\tscript = soup.find_all(\"script\", text=pattern)\n",
    "\n",
    "\t\t\tcontains_charts = json.loads(str(script[0])[33:-131])\n",
    "\n",
    "\t\t\tif (len(contains_charts[\"charts\"][\"charts\"]) != 0):\n",
    "\t\t\t\tfor chart in contains_charts[\"charts\"][\"charts\"]['charts']:\n",
    "\n",
    "\t\t\t\t\tname = chart[\"lastName\"] + \"_\" + chart[\"firstName\"] + \"_\" + chart[\"position\"]\n",
    "\t\t\t\t\tchart[\"team\"] = team\n",
    "\n",
    "\t\t\t\t\tfolder = str(\"Pass_Charts\" + os.sep + team + os.sep + season + os.sep + week + os.sep)\n",
    "\t\t\t\t\timg_folder = folder + \"images\" + os.sep\n",
    "\t\t\t\t\tdata_folder = folder + \"data\" + os.sep\n",
    "\n",
    "\t\t\t\t\tif not os.path.exists(img_folder):\n",
    "\t\t\t\t\t\tos.makedirs(img_folder)\n",
    "\t\t\t\t\tif not os.path.exists(data_folder):\n",
    "\t\t\t\t\t\tos.makedirs(data_folder)\n",
    "\n",
    "\t\t\t\t\timg_file = img_folder + name + \".jpeg\"\n",
    "\t\t\t\t\turl = \"https:\" + chart[\"extraLargeImg\"]\n",
    "\t\t\t\t\turllib.request.urlretrieve(url, img_file)\n",
    "\n",
    "\t\t\t\t\tdata_file = data_folder + name + \".txt\"\n",
    "\t\t\t\t\twith open(data_file, 'w') as datafile: \n",
    "\t\t\t\t\t\tjson.dump(chart, datafile)\n",
    "\n",
    "print(\"Done.\")\n"
   ]
  },
  {
   "cell_type": "code",
   "execution_count": 8,
   "metadata": {},
   "outputs": [
    {
     "name": "stdout",
     "output_type": "stream",
     "text": [
      "Cleaning images and data...\n"
     ]
    },
    {
     "name": "stderr",
     "output_type": "stream",
     "text": [
      "C:\\ProgramData\\Anaconda3\\lib\\site-packages\\ipykernel_launcher.py:20: DeprecationWarning: `imsave` is deprecated!\n",
      "`imsave` is deprecated in SciPy 1.0.0, and will be removed in 1.2.0.\n",
      "Use ``imageio.imwrite`` instead.\n"
     ]
    },
    {
     "name": "stdout",
     "output_type": "stream",
     "text": [
      "Done.\n"
     ]
    }
   ],
   "source": [
    "def new_image(image):\n",
    "\n",
    "\timg_name = image.split(os.sep)[-1].split(\".\")[0]\n",
    "\timg = cv2.imread(image)\n",
    "\n",
    "\tif (img.shape[0:2] == (1200, 1200)):\n",
    "\t\tcrop_img = img[0:680, 0:1200]\n",
    "\t\ttemp_name = img_name + \"_temp.jpg\"\n",
    "\t\tcv2.imwrite(temp_name, crop_img)\n",
    "\telse:\n",
    "\t\tprint(\"Image must be of size (1200, 1200)\")\n",
    "\t\treturn\n",
    "\n",
    "\tclean_img = clean_field(temp_name)\n",
    "\twrite_path = clean_path + os.sep + os.sep.join(image.split(os.sep)[1:-1]) \n",
    "\tif not os.path.exists(write_path): os.makedirs(write_path)\n",
    "\n",
    "\tif (clean_img != None):\n",
    "\t\twrite_name = write_path + os.sep + img_name + \".jpeg\"\n",
    "\t\tscipy.misc.imsave(write_name, clean_img)\n",
    "\tos.remove(temp_name)\n",
    "\n",
    "def new_data(folder, image): \n",
    "\tdata_path = os.sep.join(folder.split(os.sep)[:-1]) + os.sep + \"data\" \n",
    "\tdata_file = data_path + os.sep + image.split(\".\")[0] + \".txt\"\n",
    "\tnew_data_path = clean_path + os.sep + os.sep.join(folder.split(os.sep)[1:-1]) + os.sep + \"data\" \n",
    "\tnew_data_file = new_data_path + os.sep + image.split(\".\")[0] + \".txt\"\n",
    "\n",
    "\n",
    "\tif not os.path.exists(new_data_path): \n",
    "\t\tos.makedirs(new_data_path)\n",
    "\n",
    "\twith open(data_file) as _file: \n",
    "\t\told_data = json.load(_file)\n",
    "\t\tnew_data = {key: old_data[key] for key in keys}\n",
    "\twith open(new_data_file, \"w\") as _file:\n",
    "\t\tjson.dump(new_data, _file)\n",
    "\n",
    "\n",
    "\n",
    "if __name__ == '__main__':\n",
    "\tkeys = ['completions', 'passingYards', 'touchdowns', 'playerNameSlug', \n",
    "\t\t'teamId', 'interceptions',  'playerName', 'season', 'position',\n",
    "\t\t'type', 'week', 'gameId', 'esbId', 'firstName', 'lastName', \n",
    "\t\t'attempts', 'team'\n",
    "\t]\n",
    "\n",
    "\tclean_path = \"Cleaned_Pass_Charts\"\n",
    "\n",
    "\tif not os.path.exists(clean_path): os.makedirs(clean_path)\n",
    "\n",
    "\tpass_chart_folders = [folder[0] for folder in os.walk(\"Pass_Charts\")]\n",
    "\timage_folders = [folder for folder in pass_chart_folders if folder.split(os.sep)[-1] == \"images\"]\n",
    "\tprint(\"Cleaning images and data...\")\n",
    "\tfor folder in image_folders:\n",
    "\t\t#print folder \n",
    "\t\timages = os.listdir(folder)\n",
    "\t\tfor image in images:\n",
    "\t\t\tif not image.startswith(\".\"): \n",
    "\t\t\t\tnew_image(os.path.join(folder, image))\n",
    "\t\t\t\tnew_data(folder, image)\n",
    "\tprint(\"Done.\")\n"
   ]
  },
  {
   "cell_type": "code",
   "execution_count": 20,
   "metadata": {},
   "outputs": [
    {
     "name": "stdout",
     "output_type": "stream",
     "text": [
      "Extracting pass locations...\n",
      "Cleaned_Pass_Charts\\arizona-cardinals\\2019\\1\\data\n"
     ]
    },
    {
     "name": "stderr",
     "output_type": "stream",
     "text": [
      "C:\\ProgramData\\Anaconda3\\lib\\site-packages\\ipykernel_launcher.py:274: DeprecationWarning: `imsave` is deprecated!\n",
      "`imsave` is deprecated in SciPy 1.0.0, and will be removed in 1.2.0.\n",
      "Use ``imageio.imwrite`` instead.\n"
     ]
    },
    {
     "name": "stdout",
     "output_type": "stream",
     "text": [
      "Cleaned_Pass_Charts\\arizona-cardinals\\2019\\2\\data\n",
      "Cleaned_Pass_Charts\\atlanta-falcons\\2019\\1\\data\n"
     ]
    },
    {
     "name": "stderr",
     "output_type": "stream",
     "text": [
      "C:\\ProgramData\\Anaconda3\\lib\\site-packages\\ipykernel_launcher.py:274: DeprecationWarning: `imsave` is deprecated!\n",
      "`imsave` is deprecated in SciPy 1.0.0, and will be removed in 1.2.0.\n",
      "Use ``imageio.imwrite`` instead.\n"
     ]
    },
    {
     "name": "stdout",
     "output_type": "stream",
     "text": [
      "Cleaned_Pass_Charts\\atlanta-falcons\\2019\\2\\data\n"
     ]
    },
    {
     "name": "stderr",
     "output_type": "stream",
     "text": [
      "C:\\ProgramData\\Anaconda3\\lib\\site-packages\\ipykernel_launcher.py:274: DeprecationWarning: `imsave` is deprecated!\n",
      "`imsave` is deprecated in SciPy 1.0.0, and will be removed in 1.2.0.\n",
      "Use ``imageio.imwrite`` instead.\n"
     ]
    },
    {
     "name": "stdout",
     "output_type": "stream",
     "text": [
      "Cleaned_Pass_Charts\\baltimore-ravens\\2019\\1\\data\n"
     ]
    },
    {
     "name": "stderr",
     "output_type": "stream",
     "text": [
      "C:\\ProgramData\\Anaconda3\\lib\\site-packages\\ipykernel_launcher.py:274: DeprecationWarning: `imsave` is deprecated!\n",
      "`imsave` is deprecated in SciPy 1.0.0, and will be removed in 1.2.0.\n",
      "Use ``imageio.imwrite`` instead.\n"
     ]
    },
    {
     "name": "stdout",
     "output_type": "stream",
     "text": [
      "Cleaned_Pass_Charts\\baltimore-ravens\\2019\\2\\data\n"
     ]
    },
    {
     "name": "stderr",
     "output_type": "stream",
     "text": [
      "C:\\ProgramData\\Anaconda3\\lib\\site-packages\\ipykernel_launcher.py:274: DeprecationWarning: `imsave` is deprecated!\n",
      "`imsave` is deprecated in SciPy 1.0.0, and will be removed in 1.2.0.\n",
      "Use ``imageio.imwrite`` instead.\n"
     ]
    },
    {
     "name": "stdout",
     "output_type": "stream",
     "text": [
      "Cleaned_Pass_Charts\\buffalo-bills\\2019\\1\\data\n"
     ]
    },
    {
     "name": "stderr",
     "output_type": "stream",
     "text": [
      "C:\\ProgramData\\Anaconda3\\lib\\site-packages\\ipykernel_launcher.py:274: DeprecationWarning: `imsave` is deprecated!\n",
      "`imsave` is deprecated in SciPy 1.0.0, and will be removed in 1.2.0.\n",
      "Use ``imageio.imwrite`` instead.\n"
     ]
    },
    {
     "name": "stdout",
     "output_type": "stream",
     "text": [
      "Cleaned_Pass_Charts\\buffalo-bills\\2019\\2\\data\n"
     ]
    },
    {
     "name": "stderr",
     "output_type": "stream",
     "text": [
      "C:\\ProgramData\\Anaconda3\\lib\\site-packages\\ipykernel_launcher.py:274: DeprecationWarning: `imsave` is deprecated!\n",
      "`imsave` is deprecated in SciPy 1.0.0, and will be removed in 1.2.0.\n",
      "Use ``imageio.imwrite`` instead.\n"
     ]
    },
    {
     "name": "stdout",
     "output_type": "stream",
     "text": [
      "Cleaned_Pass_Charts\\carolina-panthers\\2019\\1\\data\n",
      "Cleaned_Pass_Charts\\carolina-panthers\\2019\\2\\data\n",
      "Cleaned_Pass_Charts\\chicago-bears\\2019\\1\\data\n",
      "Cleaned_Pass_Charts\\chicago-bears\\2019\\2\\data\n",
      "Cleaned_Pass_Charts\\cincinnati-bengals\\2019\\1\\data\n"
     ]
    },
    {
     "name": "stderr",
     "output_type": "stream",
     "text": [
      "C:\\ProgramData\\Anaconda3\\lib\\site-packages\\ipykernel_launcher.py:274: DeprecationWarning: `imsave` is deprecated!\n",
      "`imsave` is deprecated in SciPy 1.0.0, and will be removed in 1.2.0.\n",
      "Use ``imageio.imwrite`` instead.\n"
     ]
    },
    {
     "name": "stdout",
     "output_type": "stream",
     "text": [
      "Cleaned_Pass_Charts\\cincinnati-bengals\\2019\\2\\data\n"
     ]
    },
    {
     "name": "stderr",
     "output_type": "stream",
     "text": [
      "C:\\ProgramData\\Anaconda3\\lib\\site-packages\\ipykernel_launcher.py:274: DeprecationWarning: `imsave` is deprecated!\n",
      "`imsave` is deprecated in SciPy 1.0.0, and will be removed in 1.2.0.\n",
      "Use ``imageio.imwrite`` instead.\n"
     ]
    },
    {
     "name": "stdout",
     "output_type": "stream",
     "text": [
      "Cleaned_Pass_Charts\\cleveland-browns\\2019\\1\\data\n"
     ]
    },
    {
     "name": "stderr",
     "output_type": "stream",
     "text": [
      "C:\\ProgramData\\Anaconda3\\lib\\site-packages\\ipykernel_launcher.py:274: DeprecationWarning: `imsave` is deprecated!\n",
      "`imsave` is deprecated in SciPy 1.0.0, and will be removed in 1.2.0.\n",
      "Use ``imageio.imwrite`` instead.\n"
     ]
    },
    {
     "name": "stdout",
     "output_type": "stream",
     "text": [
      "Cleaned_Pass_Charts\\cleveland-browns\\2019\\2\\data\n"
     ]
    },
    {
     "name": "stderr",
     "output_type": "stream",
     "text": [
      "C:\\ProgramData\\Anaconda3\\lib\\site-packages\\ipykernel_launcher.py:274: DeprecationWarning: `imsave` is deprecated!\n",
      "`imsave` is deprecated in SciPy 1.0.0, and will be removed in 1.2.0.\n",
      "Use ``imageio.imwrite`` instead.\n"
     ]
    },
    {
     "name": "stdout",
     "output_type": "stream",
     "text": [
      "Cleaned_Pass_Charts\\dallas-cowboys\\2019\\1\\data\n"
     ]
    },
    {
     "name": "stderr",
     "output_type": "stream",
     "text": [
      "C:\\ProgramData\\Anaconda3\\lib\\site-packages\\ipykernel_launcher.py:274: DeprecationWarning: `imsave` is deprecated!\n",
      "`imsave` is deprecated in SciPy 1.0.0, and will be removed in 1.2.0.\n",
      "Use ``imageio.imwrite`` instead.\n"
     ]
    },
    {
     "name": "stdout",
     "output_type": "stream",
     "text": [
      "Cleaned_Pass_Charts\\dallas-cowboys\\2019\\2\\data\n"
     ]
    },
    {
     "name": "stderr",
     "output_type": "stream",
     "text": [
      "C:\\ProgramData\\Anaconda3\\lib\\site-packages\\ipykernel_launcher.py:274: DeprecationWarning: `imsave` is deprecated!\n",
      "`imsave` is deprecated in SciPy 1.0.0, and will be removed in 1.2.0.\n",
      "Use ``imageio.imwrite`` instead.\n"
     ]
    },
    {
     "name": "stdout",
     "output_type": "stream",
     "text": [
      "Cleaned_Pass_Charts\\denver-broncos\\2019\\1\\data\n"
     ]
    },
    {
     "name": "stderr",
     "output_type": "stream",
     "text": [
      "C:\\ProgramData\\Anaconda3\\lib\\site-packages\\ipykernel_launcher.py:274: DeprecationWarning: `imsave` is deprecated!\n",
      "`imsave` is deprecated in SciPy 1.0.0, and will be removed in 1.2.0.\n",
      "Use ``imageio.imwrite`` instead.\n"
     ]
    },
    {
     "name": "stdout",
     "output_type": "stream",
     "text": [
      "Cleaned_Pass_Charts\\denver-broncos\\2019\\2\\data\n"
     ]
    },
    {
     "name": "stderr",
     "output_type": "stream",
     "text": [
      "C:\\ProgramData\\Anaconda3\\lib\\site-packages\\ipykernel_launcher.py:274: DeprecationWarning: `imsave` is deprecated!\n",
      "`imsave` is deprecated in SciPy 1.0.0, and will be removed in 1.2.0.\n",
      "Use ``imageio.imwrite`` instead.\n"
     ]
    },
    {
     "name": "stdout",
     "output_type": "stream",
     "text": [
      "Cleaned_Pass_Charts\\detroit-lions\\2019\\1\\data\n"
     ]
    },
    {
     "name": "stderr",
     "output_type": "stream",
     "text": [
      "C:\\ProgramData\\Anaconda3\\lib\\site-packages\\ipykernel_launcher.py:274: DeprecationWarning: `imsave` is deprecated!\n",
      "`imsave` is deprecated in SciPy 1.0.0, and will be removed in 1.2.0.\n",
      "Use ``imageio.imwrite`` instead.\n"
     ]
    },
    {
     "name": "stdout",
     "output_type": "stream",
     "text": [
      "Cleaned_Pass_Charts\\detroit-lions\\2019\\2\\data\n"
     ]
    },
    {
     "name": "stderr",
     "output_type": "stream",
     "text": [
      "C:\\ProgramData\\Anaconda3\\lib\\site-packages\\ipykernel_launcher.py:274: DeprecationWarning: `imsave` is deprecated!\n",
      "`imsave` is deprecated in SciPy 1.0.0, and will be removed in 1.2.0.\n",
      "Use ``imageio.imwrite`` instead.\n"
     ]
    },
    {
     "name": "stdout",
     "output_type": "stream",
     "text": [
      "Cleaned_Pass_Charts\\green-bay-packers\\2019\\1\\data\n"
     ]
    },
    {
     "name": "stderr",
     "output_type": "stream",
     "text": [
      "C:\\ProgramData\\Anaconda3\\lib\\site-packages\\ipykernel_launcher.py:274: DeprecationWarning: `imsave` is deprecated!\n",
      "`imsave` is deprecated in SciPy 1.0.0, and will be removed in 1.2.0.\n",
      "Use ``imageio.imwrite`` instead.\n"
     ]
    },
    {
     "name": "stdout",
     "output_type": "stream",
     "text": [
      "Cleaned_Pass_Charts\\green-bay-packers\\2019\\2\\data\n"
     ]
    },
    {
     "name": "stderr",
     "output_type": "stream",
     "text": [
      "C:\\ProgramData\\Anaconda3\\lib\\site-packages\\ipykernel_launcher.py:274: DeprecationWarning: `imsave` is deprecated!\n",
      "`imsave` is deprecated in SciPy 1.0.0, and will be removed in 1.2.0.\n",
      "Use ``imageio.imwrite`` instead.\n"
     ]
    },
    {
     "name": "stdout",
     "output_type": "stream",
     "text": [
      "Cleaned_Pass_Charts\\houston-texans\\2019\\1\\data\n"
     ]
    },
    {
     "name": "stderr",
     "output_type": "stream",
     "text": [
      "C:\\ProgramData\\Anaconda3\\lib\\site-packages\\ipykernel_launcher.py:274: DeprecationWarning: `imsave` is deprecated!\n",
      "`imsave` is deprecated in SciPy 1.0.0, and will be removed in 1.2.0.\n",
      "Use ``imageio.imwrite`` instead.\n"
     ]
    },
    {
     "name": "stdout",
     "output_type": "stream",
     "text": [
      "Cleaned_Pass_Charts\\houston-texans\\2019\\2\\data\n",
      "Cleaned_Pass_Charts\\indianapolis-colts\\2019\\1\\data\n"
     ]
    },
    {
     "name": "stderr",
     "output_type": "stream",
     "text": [
      "C:\\ProgramData\\Anaconda3\\lib\\site-packages\\ipykernel_launcher.py:274: DeprecationWarning: `imsave` is deprecated!\n",
      "`imsave` is deprecated in SciPy 1.0.0, and will be removed in 1.2.0.\n",
      "Use ``imageio.imwrite`` instead.\n"
     ]
    },
    {
     "name": "stdout",
     "output_type": "stream",
     "text": [
      "Cleaned_Pass_Charts\\indianapolis-colts\\2019\\2\\data\n"
     ]
    },
    {
     "name": "stderr",
     "output_type": "stream",
     "text": [
      "C:\\ProgramData\\Anaconda3\\lib\\site-packages\\ipykernel_launcher.py:274: DeprecationWarning: `imsave` is deprecated!\n",
      "`imsave` is deprecated in SciPy 1.0.0, and will be removed in 1.2.0.\n",
      "Use ``imageio.imwrite`` instead.\n"
     ]
    },
    {
     "name": "stdout",
     "output_type": "stream",
     "text": [
      "Cleaned_Pass_Charts\\jacksonville-jaguars\\2019\\1\\data\n"
     ]
    },
    {
     "name": "stderr",
     "output_type": "stream",
     "text": [
      "C:\\ProgramData\\Anaconda3\\lib\\site-packages\\ipykernel_launcher.py:274: DeprecationWarning: `imsave` is deprecated!\n",
      "`imsave` is deprecated in SciPy 1.0.0, and will be removed in 1.2.0.\n",
      "Use ``imageio.imwrite`` instead.\n",
      "C:\\ProgramData\\Anaconda3\\lib\\site-packages\\ipykernel_launcher.py:274: DeprecationWarning: `imsave` is deprecated!\n",
      "`imsave` is deprecated in SciPy 1.0.0, and will be removed in 1.2.0.\n",
      "Use ``imageio.imwrite`` instead.\n"
     ]
    },
    {
     "name": "stdout",
     "output_type": "stream",
     "text": [
      "Cleaned_Pass_Charts\\jacksonville-jaguars\\2019\\2\\data\n"
     ]
    },
    {
     "name": "stderr",
     "output_type": "stream",
     "text": [
      "C:\\ProgramData\\Anaconda3\\lib\\site-packages\\ipykernel_launcher.py:274: DeprecationWarning: `imsave` is deprecated!\n",
      "`imsave` is deprecated in SciPy 1.0.0, and will be removed in 1.2.0.\n",
      "Use ``imageio.imwrite`` instead.\n"
     ]
    },
    {
     "name": "stdout",
     "output_type": "stream",
     "text": [
      "Cleaned_Pass_Charts\\jacksonville-jaguars\\2019\\3\\data\n"
     ]
    },
    {
     "name": "stderr",
     "output_type": "stream",
     "text": [
      "C:\\ProgramData\\Anaconda3\\lib\\site-packages\\ipykernel_launcher.py:274: DeprecationWarning: `imsave` is deprecated!\n",
      "`imsave` is deprecated in SciPy 1.0.0, and will be removed in 1.2.0.\n",
      "Use ``imageio.imwrite`` instead.\n"
     ]
    },
    {
     "name": "stdout",
     "output_type": "stream",
     "text": [
      "Cleaned_Pass_Charts\\kansas-city-chiefs\\2019\\1\\data\n"
     ]
    },
    {
     "name": "stderr",
     "output_type": "stream",
     "text": [
      "C:\\ProgramData\\Anaconda3\\lib\\site-packages\\ipykernel_launcher.py:274: DeprecationWarning: `imsave` is deprecated!\n",
      "`imsave` is deprecated in SciPy 1.0.0, and will be removed in 1.2.0.\n",
      "Use ``imageio.imwrite`` instead.\n"
     ]
    },
    {
     "name": "stdout",
     "output_type": "stream",
     "text": [
      "Cleaned_Pass_Charts\\kansas-city-chiefs\\2019\\2\\data\n"
     ]
    },
    {
     "name": "stderr",
     "output_type": "stream",
     "text": [
      "C:\\ProgramData\\Anaconda3\\lib\\site-packages\\ipykernel_launcher.py:274: DeprecationWarning: `imsave` is deprecated!\n",
      "`imsave` is deprecated in SciPy 1.0.0, and will be removed in 1.2.0.\n",
      "Use ``imageio.imwrite`` instead.\n"
     ]
    },
    {
     "name": "stdout",
     "output_type": "stream",
     "text": [
      "Cleaned_Pass_Charts\\los-angeles-chargers\\2019\\1\\data\n"
     ]
    },
    {
     "name": "stderr",
     "output_type": "stream",
     "text": [
      "C:\\ProgramData\\Anaconda3\\lib\\site-packages\\ipykernel_launcher.py:274: DeprecationWarning: `imsave` is deprecated!\n",
      "`imsave` is deprecated in SciPy 1.0.0, and will be removed in 1.2.0.\n",
      "Use ``imageio.imwrite`` instead.\n"
     ]
    },
    {
     "name": "stdout",
     "output_type": "stream",
     "text": [
      "Cleaned_Pass_Charts\\los-angeles-chargers\\2019\\2\\data\n",
      "Cleaned_Pass_Charts\\los-angeles-rams\\2019\\1\\data\n"
     ]
    },
    {
     "name": "stderr",
     "output_type": "stream",
     "text": [
      "C:\\ProgramData\\Anaconda3\\lib\\site-packages\\ipykernel_launcher.py:274: DeprecationWarning: `imsave` is deprecated!\n",
      "`imsave` is deprecated in SciPy 1.0.0, and will be removed in 1.2.0.\n",
      "Use ``imageio.imwrite`` instead.\n"
     ]
    },
    {
     "name": "stdout",
     "output_type": "stream",
     "text": [
      "Cleaned_Pass_Charts\\los-angeles-rams\\2019\\2\\data\n"
     ]
    },
    {
     "name": "stderr",
     "output_type": "stream",
     "text": [
      "C:\\ProgramData\\Anaconda3\\lib\\site-packages\\ipykernel_launcher.py:274: DeprecationWarning: `imsave` is deprecated!\n",
      "`imsave` is deprecated in SciPy 1.0.0, and will be removed in 1.2.0.\n",
      "Use ``imageio.imwrite`` instead.\n"
     ]
    },
    {
     "name": "stdout",
     "output_type": "stream",
     "text": [
      "Cleaned_Pass_Charts\\miami-dolphins\\2019\\1\\data\n"
     ]
    },
    {
     "name": "stderr",
     "output_type": "stream",
     "text": [
      "C:\\ProgramData\\Anaconda3\\lib\\site-packages\\ipykernel_launcher.py:274: DeprecationWarning: `imsave` is deprecated!\n",
      "`imsave` is deprecated in SciPy 1.0.0, and will be removed in 1.2.0.\n",
      "Use ``imageio.imwrite`` instead.\n"
     ]
    },
    {
     "name": "stdout",
     "output_type": "stream",
     "text": [
      "Cleaned_Pass_Charts\\miami-dolphins\\2019\\2\\data\n",
      "Cleaned_Pass_Charts\\minnesota-vikings\\2019\\1\\data\n"
     ]
    },
    {
     "name": "stderr",
     "output_type": "stream",
     "text": [
      "C:\\ProgramData\\Anaconda3\\lib\\site-packages\\ipykernel_launcher.py:274: DeprecationWarning: `imsave` is deprecated!\n",
      "`imsave` is deprecated in SciPy 1.0.0, and will be removed in 1.2.0.\n",
      "Use ``imageio.imwrite`` instead.\n"
     ]
    },
    {
     "name": "stdout",
     "output_type": "stream",
     "text": [
      "Cleaned_Pass_Charts\\minnesota-vikings\\2019\\2\\data\n"
     ]
    },
    {
     "name": "stderr",
     "output_type": "stream",
     "text": [
      "C:\\ProgramData\\Anaconda3\\lib\\site-packages\\ipykernel_launcher.py:274: DeprecationWarning: `imsave` is deprecated!\n",
      "`imsave` is deprecated in SciPy 1.0.0, and will be removed in 1.2.0.\n",
      "Use ``imageio.imwrite`` instead.\n"
     ]
    },
    {
     "name": "stdout",
     "output_type": "stream",
     "text": [
      "Cleaned_Pass_Charts\\new-england-patriots\\2019\\1\\data\n"
     ]
    },
    {
     "name": "stderr",
     "output_type": "stream",
     "text": [
      "C:\\ProgramData\\Anaconda3\\lib\\site-packages\\ipykernel_launcher.py:274: DeprecationWarning: `imsave` is deprecated!\n",
      "`imsave` is deprecated in SciPy 1.0.0, and will be removed in 1.2.0.\n",
      "Use ``imageio.imwrite`` instead.\n"
     ]
    },
    {
     "name": "stdout",
     "output_type": "stream",
     "text": [
      "Cleaned_Pass_Charts\\new-england-patriots\\2019\\2\\data\n"
     ]
    },
    {
     "name": "stderr",
     "output_type": "stream",
     "text": [
      "C:\\ProgramData\\Anaconda3\\lib\\site-packages\\ipykernel_launcher.py:274: DeprecationWarning: `imsave` is deprecated!\n",
      "`imsave` is deprecated in SciPy 1.0.0, and will be removed in 1.2.0.\n",
      "Use ``imageio.imwrite`` instead.\n"
     ]
    },
    {
     "name": "stdout",
     "output_type": "stream",
     "text": [
      "Cleaned_Pass_Charts\\new-orleans-saints\\2019\\1\\data\n"
     ]
    },
    {
     "name": "stderr",
     "output_type": "stream",
     "text": [
      "C:\\ProgramData\\Anaconda3\\lib\\site-packages\\ipykernel_launcher.py:274: DeprecationWarning: `imsave` is deprecated!\n",
      "`imsave` is deprecated in SciPy 1.0.0, and will be removed in 1.2.0.\n",
      "Use ``imageio.imwrite`` instead.\n"
     ]
    },
    {
     "name": "stdout",
     "output_type": "stream",
     "text": [
      "Cleaned_Pass_Charts\\new-orleans-saints\\2019\\2\\data\n",
      "Cleaned_Pass_Charts\\new-york-giants\\2019\\1\\data\n"
     ]
    },
    {
     "name": "stderr",
     "output_type": "stream",
     "text": [
      "C:\\ProgramData\\Anaconda3\\lib\\site-packages\\ipykernel_launcher.py:274: DeprecationWarning: `imsave` is deprecated!\n",
      "`imsave` is deprecated in SciPy 1.0.0, and will be removed in 1.2.0.\n",
      "Use ``imageio.imwrite`` instead.\n"
     ]
    },
    {
     "name": "stdout",
     "output_type": "stream",
     "text": [
      "Cleaned_Pass_Charts\\new-york-giants\\2019\\2\\data\n"
     ]
    },
    {
     "name": "stderr",
     "output_type": "stream",
     "text": [
      "C:\\ProgramData\\Anaconda3\\lib\\site-packages\\ipykernel_launcher.py:274: DeprecationWarning: `imsave` is deprecated!\n",
      "`imsave` is deprecated in SciPy 1.0.0, and will be removed in 1.2.0.\n",
      "Use ``imageio.imwrite`` instead.\n"
     ]
    },
    {
     "name": "stdout",
     "output_type": "stream",
     "text": [
      "Cleaned_Pass_Charts\\new-york-jets\\2019\\1\\data\n"
     ]
    },
    {
     "name": "stderr",
     "output_type": "stream",
     "text": [
      "C:\\ProgramData\\Anaconda3\\lib\\site-packages\\ipykernel_launcher.py:274: DeprecationWarning: `imsave` is deprecated!\n",
      "`imsave` is deprecated in SciPy 1.0.0, and will be removed in 1.2.0.\n",
      "Use ``imageio.imwrite`` instead.\n"
     ]
    },
    {
     "name": "stdout",
     "output_type": "stream",
     "text": [
      "Cleaned_Pass_Charts\\new-york-jets\\2019\\2\\data\n",
      "Cleaned_Pass_Charts\\oakland-raiders\\2019\\1\\data\n"
     ]
    },
    {
     "name": "stderr",
     "output_type": "stream",
     "text": [
      "C:\\ProgramData\\Anaconda3\\lib\\site-packages\\ipykernel_launcher.py:274: DeprecationWarning: `imsave` is deprecated!\n",
      "`imsave` is deprecated in SciPy 1.0.0, and will be removed in 1.2.0.\n",
      "Use ``imageio.imwrite`` instead.\n"
     ]
    },
    {
     "name": "stdout",
     "output_type": "stream",
     "text": [
      "Cleaned_Pass_Charts\\oakland-raiders\\2019\\2\\data\n"
     ]
    },
    {
     "name": "stderr",
     "output_type": "stream",
     "text": [
      "C:\\ProgramData\\Anaconda3\\lib\\site-packages\\ipykernel_launcher.py:274: DeprecationWarning: `imsave` is deprecated!\n",
      "`imsave` is deprecated in SciPy 1.0.0, and will be removed in 1.2.0.\n",
      "Use ``imageio.imwrite`` instead.\n"
     ]
    },
    {
     "name": "stdout",
     "output_type": "stream",
     "text": [
      "Cleaned_Pass_Charts\\philadelphia-eagles\\2019\\1\\data\n"
     ]
    },
    {
     "name": "stderr",
     "output_type": "stream",
     "text": [
      "C:\\ProgramData\\Anaconda3\\lib\\site-packages\\ipykernel_launcher.py:274: DeprecationWarning: `imsave` is deprecated!\n",
      "`imsave` is deprecated in SciPy 1.0.0, and will be removed in 1.2.0.\n",
      "Use ``imageio.imwrite`` instead.\n"
     ]
    },
    {
     "name": "stdout",
     "output_type": "stream",
     "text": [
      "Cleaned_Pass_Charts\\philadelphia-eagles\\2019\\2\\data\n"
     ]
    },
    {
     "name": "stderr",
     "output_type": "stream",
     "text": [
      "C:\\ProgramData\\Anaconda3\\lib\\site-packages\\ipykernel_launcher.py:274: DeprecationWarning: `imsave` is deprecated!\n",
      "`imsave` is deprecated in SciPy 1.0.0, and will be removed in 1.2.0.\n",
      "Use ``imageio.imwrite`` instead.\n"
     ]
    },
    {
     "name": "stdout",
     "output_type": "stream",
     "text": [
      "Cleaned_Pass_Charts\\pittsburgh-steelers\\2019\\1\\data\n",
      "Cleaned_Pass_Charts\\pittsburgh-steelers\\2019\\2\\data\n"
     ]
    },
    {
     "name": "stderr",
     "output_type": "stream",
     "text": [
      "C:\\ProgramData\\Anaconda3\\lib\\site-packages\\ipykernel_launcher.py:274: DeprecationWarning: `imsave` is deprecated!\n",
      "`imsave` is deprecated in SciPy 1.0.0, and will be removed in 1.2.0.\n",
      "Use ``imageio.imwrite`` instead.\n"
     ]
    },
    {
     "name": "stdout",
     "output_type": "stream",
     "text": [
      "Cleaned_Pass_Charts\\san-francisco-49ers\\2019\\1\\data\n"
     ]
    },
    {
     "name": "stderr",
     "output_type": "stream",
     "text": [
      "C:\\ProgramData\\Anaconda3\\lib\\site-packages\\ipykernel_launcher.py:274: DeprecationWarning: `imsave` is deprecated!\n",
      "`imsave` is deprecated in SciPy 1.0.0, and will be removed in 1.2.0.\n",
      "Use ``imageio.imwrite`` instead.\n"
     ]
    },
    {
     "name": "stdout",
     "output_type": "stream",
     "text": [
      "Cleaned_Pass_Charts\\san-francisco-49ers\\2019\\2\\data\n"
     ]
    },
    {
     "name": "stderr",
     "output_type": "stream",
     "text": [
      "C:\\ProgramData\\Anaconda3\\lib\\site-packages\\ipykernel_launcher.py:274: DeprecationWarning: `imsave` is deprecated!\n",
      "`imsave` is deprecated in SciPy 1.0.0, and will be removed in 1.2.0.\n",
      "Use ``imageio.imwrite`` instead.\n"
     ]
    },
    {
     "name": "stdout",
     "output_type": "stream",
     "text": [
      "Cleaned_Pass_Charts\\seattle-seahawks\\2019\\1\\data\n"
     ]
    },
    {
     "name": "stderr",
     "output_type": "stream",
     "text": [
      "C:\\ProgramData\\Anaconda3\\lib\\site-packages\\ipykernel_launcher.py:274: DeprecationWarning: `imsave` is deprecated!\n",
      "`imsave` is deprecated in SciPy 1.0.0, and will be removed in 1.2.0.\n",
      "Use ``imageio.imwrite`` instead.\n"
     ]
    },
    {
     "name": "stdout",
     "output_type": "stream",
     "text": [
      "Cleaned_Pass_Charts\\seattle-seahawks\\2019\\2\\data\n"
     ]
    },
    {
     "name": "stderr",
     "output_type": "stream",
     "text": [
      "C:\\ProgramData\\Anaconda3\\lib\\site-packages\\ipykernel_launcher.py:274: DeprecationWarning: `imsave` is deprecated!\n",
      "`imsave` is deprecated in SciPy 1.0.0, and will be removed in 1.2.0.\n",
      "Use ``imageio.imwrite`` instead.\n"
     ]
    },
    {
     "name": "stdout",
     "output_type": "stream",
     "text": [
      "Cleaned_Pass_Charts\\tampabay-buccaneers\\2019\\1\\data\n"
     ]
    },
    {
     "name": "stderr",
     "output_type": "stream",
     "text": [
      "C:\\ProgramData\\Anaconda3\\lib\\site-packages\\ipykernel_launcher.py:274: DeprecationWarning: `imsave` is deprecated!\n",
      "`imsave` is deprecated in SciPy 1.0.0, and will be removed in 1.2.0.\n",
      "Use ``imageio.imwrite`` instead.\n"
     ]
    },
    {
     "name": "stdout",
     "output_type": "stream",
     "text": [
      "Cleaned_Pass_Charts\\tampabay-buccaneers\\2019\\2\\data\n"
     ]
    },
    {
     "name": "stderr",
     "output_type": "stream",
     "text": [
      "C:\\ProgramData\\Anaconda3\\lib\\site-packages\\ipykernel_launcher.py:274: DeprecationWarning: `imsave` is deprecated!\n",
      "`imsave` is deprecated in SciPy 1.0.0, and will be removed in 1.2.0.\n",
      "Use ``imageio.imwrite`` instead.\n"
     ]
    },
    {
     "name": "stdout",
     "output_type": "stream",
     "text": [
      "Cleaned_Pass_Charts\\tennessee-titans\\2019\\1\\data\n"
     ]
    },
    {
     "name": "stderr",
     "output_type": "stream",
     "text": [
      "C:\\ProgramData\\Anaconda3\\lib\\site-packages\\ipykernel_launcher.py:274: DeprecationWarning: `imsave` is deprecated!\n",
      "`imsave` is deprecated in SciPy 1.0.0, and will be removed in 1.2.0.\n",
      "Use ``imageio.imwrite`` instead.\n"
     ]
    },
    {
     "name": "stdout",
     "output_type": "stream",
     "text": [
      "Cleaned_Pass_Charts\\tennessee-titans\\2019\\2\\data\n"
     ]
    },
    {
     "name": "stderr",
     "output_type": "stream",
     "text": [
      "C:\\ProgramData\\Anaconda3\\lib\\site-packages\\ipykernel_launcher.py:274: DeprecationWarning: `imsave` is deprecated!\n",
      "`imsave` is deprecated in SciPy 1.0.0, and will be removed in 1.2.0.\n",
      "Use ``imageio.imwrite`` instead.\n"
     ]
    },
    {
     "name": "stdout",
     "output_type": "stream",
     "text": [
      "Cleaned_Pass_Charts\\tennessee-titans\\2019\\3\\data\n",
      "Cleaned_Pass_Charts\\washington-redskins\\2019\\1\\data\n"
     ]
    },
    {
     "name": "stderr",
     "output_type": "stream",
     "text": [
      "C:\\ProgramData\\Anaconda3\\lib\\site-packages\\ipykernel_launcher.py:274: DeprecationWarning: `imsave` is deprecated!\n",
      "`imsave` is deprecated in SciPy 1.0.0, and will be removed in 1.2.0.\n",
      "Use ``imageio.imwrite`` instead.\n"
     ]
    },
    {
     "name": "stdout",
     "output_type": "stream",
     "text": [
      "Cleaned_Pass_Charts\\washington-redskins\\2019\\2\\data\n"
     ]
    },
    {
     "name": "stderr",
     "output_type": "stream",
     "text": [
      "C:\\ProgramData\\Anaconda3\\lib\\site-packages\\ipykernel_launcher.py:274: DeprecationWarning: `imsave` is deprecated!\n",
      "`imsave` is deprecated in SciPy 1.0.0, and will be removed in 1.2.0.\n",
      "Use ``imageio.imwrite`` instead.\n"
     ]
    },
    {
     "name": "stdout",
     "output_type": "stream",
     "text": [
      "Done.\n"
     ]
    }
   ],
   "source": [
    "def get_pass_data(data_file): \n",
    "\t\"\"\"\n",
    "\tExtract the number of complete passes, incomplete passes, touchdowns, and interceptions \n",
    "\tfrom a pass chart. \n",
    "\t\"\"\"\n",
    "\twith open(data_file) as _file: \n",
    "\t\tdata = json.load(_file)\n",
    "\t\t_file.close()\n",
    "\tn_completions = data[\"completions\"] - data[\"touchdowns\"]\n",
    "\tn_touchdowns = data[\"touchdowns\"]\n",
    "\tn_interceptions = data[\"interceptions\"]\n",
    "\tn_incompletes = data[\"attempts\"] -  n_completions -  n_interceptions - n_touchdowns\n",
    "\n",
    "\treturn (n_completions, n_touchdowns, n_interceptions, n_incompletes)\n",
    "\n",
    "def get_image(folder, data_file):\n",
    "\t\"\"\"\n",
    "\tIf cleaned image exists, return the file path to the image, \n",
    "\totherwise return none.\n",
    "\t\"\"\"\n",
    "\timages_path = os.sep.join(folder.split(os.sep)[:-1]) + os.sep + \"images\" \n",
    "\timage_file = images_path + os.sep + data_file.split(\".\")[0] + \".jpeg\"\n",
    "\tif not os.path.exists(image_file):\n",
    "\t\treturn None\n",
    "\telse:\n",
    "\t\treturn image_file\n",
    "\n",
    "def get_game_data(data_file):\n",
    "\t\"\"\"\n",
    "\tExtract player name, team, and game ID from the data corresponding to a pass chart image.\n",
    "\t\"\"\"\t\n",
    "\twith open(data_file) as _file: \n",
    "\t\tdata = json.load(_file)\n",
    "\t\t_file.close()\n",
    "\tname = data[\"firstName\"] + \" \" + data[\"lastName\"]\n",
    "\tteam = data[\"team\"]\n",
    "\tgame_id = data[\"gameId\"]\n",
    "\tweek = data_file.split(os.sep)[-3]\n",
    "\treturn (name, team, game_id, week)\n",
    "\n",
    "def write_pass_locations(image, data, passes):\n",
    "\t\"\"\"\n",
    "\tWrite player, team, and game information, and locations of all passes to a .csv file.\n",
    "\t\"\"\"\n",
    "\t(n_com, n_td, n_int, n_inc) = get_pass_data(data)\n",
    "\t(name, team, game_id, week) = get_game_data(data)\n",
    "\tn_total = n_com + n_td + n_int + n_inc\n",
    "\n",
    "\tpass_cols = [\"pass_type\", \"x\", \"y\"]\n",
    "\tgame_cols = [\"game_id\", \"team\", \"week\", \"name\"]\n",
    "\tpass_df = pd.DataFrame(columns = pass_cols)\n",
    "\n",
    "\tif (image is None): \n",
    "\t\trows_com = pd.DataFrame([[\"COMPLETE\", None, None]]*n_com, \n",
    "\t\t\tcolumns = pass_cols)\n",
    "\t\trows_td = pd.DataFrame([[\"TOUCHDOWN\", None, None]]*n_td, \n",
    "\t\t\tcolumns = pass_cols)\n",
    "\t\trows_int = pd.DataFrame([[\"INTERCEPTION\", None, None]]*n_int, \n",
    "\t\t\tcolumns = pass_cols)\n",
    "\t\trows_inc = pd.DataFrame([[\"INCOMPLETE\", None, None]]*n_inc, \n",
    "\t\t\tcolumns = pass_cols)\n",
    "\t\tpass_df = pass_df.append([rows_com, rows_td, rows_int, rows_inc])\n",
    "\t\tgame_df = pd.DataFrame([[game_id, team, week, name]]*pass_df.shape[0], \n",
    "\t\t\tcolumns = game_cols)\n",
    "\t\tdf = pd.concat([game_df, pass_df.reset_index(drop=True)], axis=1)\n",
    "\t\tpasses = passes.append(df)\n",
    "\t\treturn passes\n",
    "\n",
    "\tif n_com != 0: \n",
    "\t\trows_com = completions(image, n_com)\n",
    "\t\tpass_df = pass_df.append(rows_com)\n",
    "\n",
    "\tif n_td != 0: \n",
    "\t\trows_td = touchdowns(image, n_td)\n",
    "\t\tpass_df = pass_df.append(rows_td)\n",
    "\n",
    "\tif n_int != 0: \n",
    "\t\trows_int = interceptions(image, n_int)\n",
    "\t\tpass_df = pass_df.append(rows_int)\n",
    "\n",
    "\tif n_inc != 0: \n",
    "\t\trows_inc = incompletions(image, n_inc)\n",
    "\t\tpass_df = pass_df.append(rows_inc)\n",
    "\n",
    "\tgame_df = pd.DataFrame([[game_id, team, week, name]]*pass_df.shape[0], \n",
    "\t\tcolumns = game_cols)\n",
    "\n",
    "\tdf = pd.concat([game_df, pass_df.reset_index(drop=True)], axis=1)\n",
    "\tpasses = passes.append(df)\n",
    "\treturn passes\n",
    "\n",
    "\n",
    "if __name__ == '__main__':\n",
    "\n",
    "\tclean_path = \"Cleaned_Pass_Charts\"\n",
    "\tpasses = pd.DataFrame(columns = [\"game_id\", \"team\", \"week\", \"name\", \"pass_type\", \"x\", \"y\"])\n",
    "\n",
    "\tpass_chart_folders = [folder[0] for folder in os.walk(clean_path)]\n",
    "\tdata_folders = [folder for folder in pass_chart_folders if folder.split(os.sep)[-1] == \"data\"]\n",
    "\n",
    "\tprint(\"Extracting pass locations...\")\n",
    "\tfor folder in data_folders:\n",
    "\t\tdata = os.listdir(folder)\n",
    "\t\tprint(folder)\n",
    "\t\tfor data_file in data:\n",
    "\t\t\tif not data_file.startswith(\".\"): \n",
    "\t\t\t\timage = get_image(folder, data_file)\n",
    "\t\t\t\tpasses = write_pass_locations(image, os.path.join(folder, data_file), passes)\n",
    "\tpasses.to_csv(\"pass_locations.csv\", index=False, header=True)\n",
    "\tprint(\"Done.\")"
   ]
  }
 ],
 "metadata": {
  "kernelspec": {
   "display_name": "Python 3",
   "language": "python",
   "name": "python3"
  },
  "language_info": {
   "codemirror_mode": {
    "name": "ipython",
    "version": 3
   },
   "file_extension": ".py",
   "mimetype": "text/x-python",
   "name": "python",
   "nbconvert_exporter": "python",
   "pygments_lexer": "ipython3",
   "version": "3.7.3"
  }
 },
 "nbformat": 4,
 "nbformat_minor": 2
}
